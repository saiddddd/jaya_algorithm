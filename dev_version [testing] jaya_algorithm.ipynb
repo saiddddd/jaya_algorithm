{
 "cells": [
  {
   "cell_type": "code",
   "execution_count": 1,
   "id": "ac1391f0",
   "metadata": {},
   "outputs": [],
   "source": [
    "import pandas as pd\n",
    "import numpy as np\n",
    "import math\n",
    "import random"
   ]
  },
  {
   "cell_type": "code",
   "execution_count": 2,
   "id": "abc58053",
   "metadata": {},
   "outputs": [],
   "source": [
    "#define parameters (ori)\n",
    "\n",
    "pop_size = 50\n",
    "maxIter = 1000\n",
    "lb=[-5,-5]\n",
    "ub=[5,5]"
   ]
  },
  {
   "cell_type": "code",
   "execution_count": null,
   "id": "3ed4f28f",
   "metadata": {},
   "outputs": [],
   "source": []
  },
  {
   "cell_type": "code",
   "execution_count": 3,
   "id": "eaaed1b1",
   "metadata": {},
   "outputs": [],
   "source": [
    "#define initial population\n",
    "\n",
    "def initial_population(lb, ub, pop_size):\n",
    "    pop = []\n",
    "    \n",
    "    for i in range(pop_size):\n",
    "        p = []\n",
    "        for a,b in zip(lb, ub):\n",
    "            p.append((b - a)*random.random() + a)\n",
    "        pop.append(p)\n",
    "    init_pop = pd.DataFrame(pop)\n",
    "#     print('Dataframe of initial population (5 first rows):')\n",
    "#     print(init_pop.head())\n",
    "    \n",
    "    return init_pop"
   ]
  },
  {
   "cell_type": "code",
   "execution_count": null,
   "id": "12eccf77",
   "metadata": {},
   "outputs": [],
   "source": []
  },
  {
   "cell_type": "code",
   "execution_count": 4,
   "id": "a070e1f2",
   "metadata": {},
   "outputs": [],
   "source": [
    "#define objective function (ori)\n",
    "\n",
    "def objective_function(p1):\n",
    "    F = []\n",
    "    \n",
    "    for i in range(len(p1)):\n",
    "        x = p1.loc[i]\n",
    "        f = (((x[0]**2) + x[1] - 11)**2) + ((x[0] + x[1]**2) - 7)**2\n",
    "        F.append(f)\n",
    "    return F    "
   ]
  },
  {
   "cell_type": "code",
   "execution_count": null,
   "id": "a1e6f0af",
   "metadata": {},
   "outputs": [],
   "source": []
  },
  {
   "cell_type": "code",
   "execution_count": null,
   "id": "6ca4a8c2",
   "metadata": {},
   "outputs": [],
   "source": []
  },
  {
   "cell_type": "code",
   "execution_count": null,
   "id": "4c7f8553",
   "metadata": {},
   "outputs": [],
   "source": []
  },
  {
   "cell_type": "code",
   "execution_count": 5,
   "id": "6bf1aa8b",
   "metadata": {},
   "outputs": [],
   "source": [
    "#update the initial position of the population\n",
    "\n",
    "def update_population(p1, dim):\n",
    "    best_x = np.array(p1.loc[p1['f'].idxmin()][0:dim])\n",
    "    worst_x = np.array(p1.loc[p1['f'].idxmax()][0:dim])\n",
    "    \n",
    "    new_x = []\n",
    "    \n",
    "    for i in range(len(p1)):\n",
    "        old_x = np.array(p1.loc[i][0:dim])\n",
    "        r1 = np.random.random(dim)\n",
    "        r2 = np.random.random(dim)\n",
    "        \n",
    "        new_x.append(old_x + r1*(best_x - abs(old_x)) - r2*(worst_x - abs(old_x)))\n",
    "    new_x = pd.DataFrame(new_x)\n",
    "#     print('Updated population (5 first rows): ')\n",
    "#     print(new_x.head())\n",
    "    return new_x"
   ]
  },
  {
   "cell_type": "code",
   "execution_count": null,
   "id": "64e673e1",
   "metadata": {},
   "outputs": [],
   "source": []
  },
  {
   "cell_type": "code",
   "execution_count": null,
   "id": "5a879872",
   "metadata": {},
   "outputs": [],
   "source": []
  },
  {
   "cell_type": "code",
   "execution_count": 6,
   "id": "3826936e",
   "metadata": {},
   "outputs": [],
   "source": [
    "#compare - replace the particle position related to the fitness value\n",
    "\n",
    "def compare_replace(p1, new_p1):\n",
    "    for i in range(len(p1)):\n",
    "        if p1.loc[i]['f'] > new_p1.loc[i]['f']:\n",
    "            p1.loc[i] = new_p1.loc[i]\n",
    "    return p1       "
   ]
  },
  {
   "cell_type": "code",
   "execution_count": null,
   "id": "9a81ddf1",
   "metadata": {},
   "outputs": [],
   "source": []
  },
  {
   "cell_type": "code",
   "execution_count": 7,
   "id": "08b7e520",
   "metadata": {},
   "outputs": [],
   "source": [
    "#maintain the position of the particle\n",
    "\n",
    "def maintain_position(new_p1, lb, ub):\n",
    "    for i in range(len(new_p1)):\n",
    "        for j in range(len(new_p1.columns)-1):\n",
    "            if new_p1.iloc[i, j] > ub[j]:\n",
    "                new_p1.iloc[i, j] = ub[j]\n",
    "            elif new_p1.iloc[i, j] < lb[j]:\n",
    "                new_p1.iloc[i, j] = lb[j]\n",
    "                \n",
    "    return new_p1"
   ]
  },
  {
   "cell_type": "code",
   "execution_count": null,
   "id": "6ce1cd94",
   "metadata": {},
   "outputs": [],
   "source": []
  },
  {
   "cell_type": "code",
   "execution_count": null,
   "id": "90c97370",
   "metadata": {},
   "outputs": [],
   "source": []
  },
  {
   "cell_type": "code",
   "execution_count": null,
   "id": "73ec499e",
   "metadata": {},
   "outputs": [],
   "source": []
  },
  {
   "cell_type": "code",
   "execution_count": 8,
   "id": "cea5fd55",
   "metadata": {},
   "outputs": [],
   "source": [
    "#main jaya function\n",
    "\n",
    "def jaya(*argv):\n",
    "    pop_size, maxIter, lb, ub = argv\n",
    "    \n",
    "    lb = np.array(lb)\n",
    "    ub = np.array(ub)\n",
    "    \n",
    "    p1 = initial_population(lb, ub, pop_size)\n",
    "    p1['f'] = objective_function(p1)\n",
    "    \n",
    "    dim = len(lb)\n",
    "    Iter = 0\n",
    "    \n",
    "    best = []\n",
    "    \n",
    "    \n",
    "    while Iter < maxIter:\n",
    "        new_p1 = update_population(p1, dim)\n",
    "        new_p1 = maintain_position(p1, lb, ub)\n",
    "        new_p1['f'] = objective_function(new_p1)\n",
    "        \n",
    "        p1 = compare_replace(p1, new_p1)\n",
    "        Iter = Iter+1\n",
    "        \n",
    "        best = p1['f'].min()\n",
    "        x_best = p1.loc[p1['f'].idxmin()][0:dim].tolist()\n",
    "    return best, x_best    "
   ]
  },
  {
   "cell_type": "code",
   "execution_count": 9,
   "id": "78f797e1",
   "metadata": {},
   "outputs": [
    {
     "name": "stdout",
     "output_type": "stream",
     "text": [
      "Best fitness value = 5.940686505385222\n",
      "x best as the best position of particle = [-3.7531961545366856, -2.8851641368135827]\n",
      "CPU times: total: 1min 9s\n",
      "Wall time: 1min 11s\n"
     ]
    }
   ],
   "source": [
    "%%time\n",
    "\n",
    "\n",
    "best,x_best = jaya(pop_size, maxIter, lb, ub)\n",
    "print('Best fitness value = {}'.format(best))\n",
    "print('x best as the best position of particle = {}'.format(x_best))"
   ]
  },
  {
   "cell_type": "code",
   "execution_count": null,
   "id": "6ee4f87c",
   "metadata": {},
   "outputs": [],
   "source": []
  },
  {
   "cell_type": "code",
   "execution_count": null,
   "id": "2be5c96f",
   "metadata": {},
   "outputs": [],
   "source": []
  },
  {
   "cell_type": "code",
   "execution_count": null,
   "id": "62269b9a",
   "metadata": {},
   "outputs": [],
   "source": []
  },
  {
   "cell_type": "code",
   "execution_count": null,
   "id": "b657f1f2",
   "metadata": {},
   "outputs": [],
   "source": []
  },
  {
   "cell_type": "code",
   "execution_count": null,
   "id": "1ce5be84",
   "metadata": {},
   "outputs": [],
   "source": []
  },
  {
   "cell_type": "code",
   "execution_count": null,
   "id": "bc620449",
   "metadata": {},
   "outputs": [],
   "source": []
  },
  {
   "cell_type": "code",
   "execution_count": null,
   "id": "c2b23f96",
   "metadata": {},
   "outputs": [],
   "source": []
  },
  {
   "cell_type": "code",
   "execution_count": null,
   "id": "747fa3c7",
   "metadata": {},
   "outputs": [],
   "source": []
  },
  {
   "cell_type": "code",
   "execution_count": null,
   "id": "96e9aad3",
   "metadata": {},
   "outputs": [],
   "source": []
  },
  {
   "cell_type": "code",
   "execution_count": null,
   "id": "0af78319",
   "metadata": {},
   "outputs": [],
   "source": []
  },
  {
   "cell_type": "code",
   "execution_count": null,
   "id": "24a39171",
   "metadata": {},
   "outputs": [],
   "source": []
  },
  {
   "cell_type": "code",
   "execution_count": null,
   "id": "d8ee6401",
   "metadata": {},
   "outputs": [],
   "source": []
  },
  {
   "cell_type": "code",
   "execution_count": null,
   "id": "2d1de5e2",
   "metadata": {},
   "outputs": [],
   "source": []
  },
  {
   "cell_type": "code",
   "execution_count": null,
   "id": "6e5ae156",
   "metadata": {},
   "outputs": [],
   "source": []
  },
  {
   "cell_type": "code",
   "execution_count": null,
   "id": "0240ed4f",
   "metadata": {},
   "outputs": [],
   "source": []
  },
  {
   "cell_type": "code",
   "execution_count": null,
   "id": "d136eba3",
   "metadata": {},
   "outputs": [],
   "source": []
  },
  {
   "cell_type": "code",
   "execution_count": null,
   "id": "0135f198",
   "metadata": {},
   "outputs": [],
   "source": []
  },
  {
   "cell_type": "code",
   "execution_count": null,
   "id": "a93164ec",
   "metadata": {},
   "outputs": [],
   "source": []
  },
  {
   "cell_type": "code",
   "execution_count": null,
   "id": "5df23f2a",
   "metadata": {},
   "outputs": [],
   "source": []
  },
  {
   "cell_type": "code",
   "execution_count": null,
   "id": "8a087237",
   "metadata": {},
   "outputs": [],
   "source": []
  },
  {
   "cell_type": "code",
   "execution_count": null,
   "id": "840d9db5",
   "metadata": {},
   "outputs": [],
   "source": []
  },
  {
   "cell_type": "code",
   "execution_count": null,
   "id": "f0d98d5e",
   "metadata": {},
   "outputs": [],
   "source": []
  },
  {
   "cell_type": "code",
   "execution_count": null,
   "id": "fb6fb084",
   "metadata": {},
   "outputs": [],
   "source": []
  },
  {
   "cell_type": "code",
   "execution_count": null,
   "id": "cd6a7105",
   "metadata": {},
   "outputs": [],
   "source": []
  },
  {
   "cell_type": "code",
   "execution_count": null,
   "id": "50ff6967",
   "metadata": {},
   "outputs": [],
   "source": []
  },
  {
   "cell_type": "code",
   "execution_count": null,
   "id": "0cae5946",
   "metadata": {},
   "outputs": [],
   "source": []
  },
  {
   "cell_type": "code",
   "execution_count": null,
   "id": "e403b3c6",
   "metadata": {},
   "outputs": [],
   "source": []
  },
  {
   "cell_type": "code",
   "execution_count": null,
   "id": "2c80bfdb",
   "metadata": {},
   "outputs": [],
   "source": []
  },
  {
   "cell_type": "code",
   "execution_count": null,
   "id": "9a91c01c",
   "metadata": {},
   "outputs": [],
   "source": []
  },
  {
   "cell_type": "code",
   "execution_count": null,
   "id": "9ee13875",
   "metadata": {},
   "outputs": [],
   "source": []
  }
 ],
 "metadata": {
  "kernelspec": {
   "display_name": "Python 3 (ipykernel)",
   "language": "python",
   "name": "python3"
  },
  "language_info": {
   "codemirror_mode": {
    "name": "ipython",
    "version": 3
   },
   "file_extension": ".py",
   "mimetype": "text/x-python",
   "name": "python",
   "nbconvert_exporter": "python",
   "pygments_lexer": "ipython3",
   "version": "3.10.9"
  },
  "varInspector": {
   "cols": {
    "lenName": 16,
    "lenType": 16,
    "lenVar": 40
   },
   "kernels_config": {
    "python": {
     "delete_cmd_postfix": "",
     "delete_cmd_prefix": "del ",
     "library": "var_list.py",
     "varRefreshCmd": "print(var_dic_list())"
    },
    "r": {
     "delete_cmd_postfix": ") ",
     "delete_cmd_prefix": "rm(",
     "library": "var_list.r",
     "varRefreshCmd": "cat(var_dic_list()) "
    }
   },
   "types_to_exclude": [
    "module",
    "function",
    "builtin_function_or_method",
    "instance",
    "_Feature"
   ],
   "window_display": false
  }
 },
 "nbformat": 4,
 "nbformat_minor": 5
}
